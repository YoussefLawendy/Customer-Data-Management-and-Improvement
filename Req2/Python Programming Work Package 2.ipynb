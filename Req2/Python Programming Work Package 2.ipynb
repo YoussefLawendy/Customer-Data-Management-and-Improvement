{
 "cells": [
  {
   "cell_type": "code",
   "execution_count": 1,
   "metadata": {},
   "outputs": [],
   "source": [
    "import pandas as pd\n",
    "from sqlalchemy import create_engine\n",
    "import pyodbc\n"
   ]
  },
  {
   "cell_type": "markdown",
   "metadata": {},
   "source": [
    "Connection String"
   ]
  },
  {
   "cell_type": "code",
   "execution_count": 2,
   "metadata": {},
   "outputs": [],
   "source": [
    "connection_string = 'mssql+pyodbc://YOUSSEFLAWENDY\\SQLEXPRESS/CustomerManagementData?driver=ODBC+Driver+17+for+SQL+Server'\n",
    "engine = create_engine(connection_string)"
   ]
  },
  {
   "cell_type": "markdown",
   "metadata": {},
   "source": [
    "Function to fetch data from a table with error handling"
   ]
  },
  {
   "cell_type": "code",
   "execution_count": 3,
   "metadata": {},
   "outputs": [],
   "source": [
    "def fetch_data(query, table_name):\n",
    "    print(f\"Fetching data from {table_name}...\")\n",
    "    try:\n",
    "        data = pd.read_sql(query, engine)\n",
    "        print(f\"Data fetched successfully from {table_name}.\")\n",
    "        return data\n",
    "    except Exception as e:\n",
    "        print(f\"An error occurred while fetching data from {table_name}: {e}\")"
   ]
  },
  {
   "cell_type": "markdown",
   "metadata": {},
   "source": [
    "SQL queries for each table"
   ]
  },
  {
   "cell_type": "code",
   "execution_count": 4,
   "metadata": {},
   "outputs": [],
   "source": [
    "queries = {\n",
    "    'Customers':\"\"\"\n",
    "        SELECT *\n",
    "        FROM [CustomerManagementData].[dbo].[Customers]\n",
    "    \"\"\", \n",
    "    'OrderItems':\"\"\"\n",
    "        SELECT *\n",
    "        FROM [CustomerManagementData].[dbo].[OrderItems]\n",
    "    \"\"\",\n",
    "    'OrderPayments':\"\"\"\n",
    "        SELECT *\n",
    "        FROM [CustomerManagementData].[dbo].[OrderPayments]\n",
    "    \"\"\",\n",
    "    'OrderReviews':\"\"\"\n",
    "        SELECT *\n",
    "        FROM [CustomerManagementData].[dbo].[OrderReviews]\n",
    "    \"\"\",\n",
    "    'Orders':\"\"\"\n",
    "        SELECT *\n",
    "        FROM [CustomerManagementData].[dbo].[Orders]\n",
    "    \"\"\",\n",
    "    'ProductsData':\"\"\"\n",
    "        SELECT *\n",
    "        FROM [CustomerManagementData].[dbo].[ProductsData]\n",
    "    \"\"\",\n",
    "    'Sellers':\"\"\"\n",
    "        SELECT *\n",
    "        FROM [CustomerManagementData].[dbo].[Sellers]\n",
    "    \"\"\"\n",
    "}\n",
    "\n"
   ]
  },
  {
   "cell_type": "markdown",
   "metadata": {},
   "source": [
    "Fetching data for all tables"
   ]
  },
  {
   "cell_type": "code",
   "execution_count": 5,
   "metadata": {},
   "outputs": [
    {
     "name": "stdout",
     "output_type": "stream",
     "text": [
      "Fetching data from Customers...\n",
      "Data fetched successfully from Customers.\n",
      "Fetching data from OrderItems...\n",
      "Data fetched successfully from OrderItems.\n",
      "Fetching data from OrderPayments...\n",
      "Data fetched successfully from OrderPayments.\n",
      "Fetching data from OrderReviews...\n",
      "Data fetched successfully from OrderReviews.\n",
      "Fetching data from Orders...\n",
      "Data fetched successfully from Orders.\n",
      "Fetching data from ProductsData...\n",
      "Data fetched successfully from ProductsData.\n",
      "Fetching data from Sellers...\n",
      "Data fetched successfully from Sellers.\n"
     ]
    }
   ],
   "source": [
    "CustomersTable_df = fetch_data(queries['Customers'], 'Customers')\n",
    "OrderItemsTable_df = fetch_data(queries['OrderItems'], 'OrderItems')\n",
    "OrderPaymentsTable_df = fetch_data(queries['OrderPayments'], 'OrderPayments')\n",
    "OrderReviewsTable_df = fetch_data(queries['OrderReviews'], 'OrderReviews')\n",
    "OrdersTable_df = fetch_data(queries['Orders'], 'Orders')\n",
    "ProductsDataTable_df = fetch_data(queries['ProductsData'], 'ProductsData')\n",
    "Sellerstable_df = fetch_data(queries['Sellers'], 'Sellers')\n"
   ]
  },
  {
   "cell_type": "markdown",
   "metadata": {},
   "source": [
    "Function to clean data"
   ]
  },
  {
   "cell_type": "code",
   "execution_count": 6,
   "metadata": {},
   "outputs": [
    {
     "name": "stdout",
     "output_type": "stream",
     "text": [
      "Cleaning data for Customers...\n",
      "Data for Customers cleaned. Shape: (99441, 9)\n",
      "Cleaning data for OrderItems...\n",
      "Data for OrderItems cleaned. Shape: (112650, 7)\n",
      "Cleaning data for OrderPayments...\n",
      "Data for OrderPayments cleaned. Shape: (103886, 5)\n",
      "Cleaning data for OrderReviews...\n",
      "Data for OrderReviews cleaned. Shape: (99224, 5)\n",
      "Cleaning data for Orders...\n",
      "Data for Orders cleaned. Shape: (99441, 8)\n",
      "Cleaning data for ProductsData...\n",
      "Data for ProductsData cleaned. Shape: (32951, 2)\n",
      "Cleaning data for Sellers...\n",
      "Data for Sellers cleaned. Shape: (3095, 4)\n"
     ]
    }
   ],
   "source": [
    "def clean_data(df, table_name):\n",
    "    print(f\"Cleaning data for {table_name}...\")\n",
    "    \n",
    "    # Remove duplicates\n",
    "    df = df.drop_duplicates()\n",
    "    \n",
    "    # Handle missing values (if any) - Example: removing rows with any NaN\n",
    "    df = df.dropna()\n",
    "    \n",
    "    # Reset index after cleaning\n",
    "    df = df.reset_index(drop=True)\n",
    "    \n",
    "    print(f\"Data for {table_name} cleaned. Shape: {df.shape}\")\n",
    "    return df\n",
    "\n",
    "# Clean the fetched data\n",
    "CustomersTable_df = clean_data(CustomersTable_df, 'Customers')\n",
    "OrderItemsTable_df = clean_data(OrderItemsTable_df, 'OrderItems')\n",
    "OrderPaymentsTable_df = clean_data(OrderPaymentsTable_df, 'OrderPayments')\n",
    "OrderReviewsTable_df = clean_data(OrderReviewsTable_df, 'OrderReviews')\n",
    "OrdersTable_df = clean_data(OrdersTable_df, 'Orders')\n",
    "ProductsDataTable_df = clean_data(ProductsDataTable_df, 'ProductsData')\n",
    "SellersTable_df = clean_data(Sellerstable_df, 'Sellers')"
   ]
  },
  {
   "cell_type": "markdown",
   "metadata": {},
   "source": [
    "Merge data"
   ]
  },
  {
   "cell_type": "code",
   "execution_count": 7,
   "metadata": {},
   "outputs": [
    {
     "name": "stdout",
     "output_type": "stream",
     "text": [
      "Orders and Customers merged successfully.\n",
      "OrderItems and ProductsData merged successfully.\n",
      "OrderItems, Orders, and Customers merged successfully.\n"
     ]
    }
   ],
   "source": [
    "# Join Orders and Customers on 'customer_id'\n",
    "if 'customer_id' in OrdersTable_df.columns and 'customer_id' in CustomersTable_df.columns:\n",
    "    merged_orders_customers = OrdersTable_df.merge(CustomersTable_df, on='customer_id', how='inner')\n",
    "    print(\"Orders and Customers merged successfully.\")\n",
    "else:\n",
    "    print(\"Error: 'customer_id' column missing in either Orders or Customers table.\")\n",
    "\n",
    "# Join OrderItems with ProductsData on 'product_id'\n",
    "if 'product_id' in OrderItemsTable_df.columns and 'product_id' in ProductsDataTable_df.columns:\n",
    "    merged_items_products = OrderItemsTable_df.merge(ProductsDataTable_df, on='product_id', how='inner')\n",
    "    print(\"OrderItems and ProductsData merged successfully.\")\n",
    "else:\n",
    "    print(\"Error: 'product_id' column missing in either OrderItems or ProductsData table.\")\n",
    "\n",
    "# First, merge OrderItems with Orders, then with Customers\n",
    "if 'order_id' in OrderItemsTable_df.columns and 'order_id' in OrdersTable_df.columns:\n",
    "    merged_items_orders = OrderItemsTable_df.merge(OrdersTable_df[['order_id', 'customer_id']], on='order_id', how='inner')\n",
    "    if 'customer_id' in CustomersTable_df.columns:\n",
    "        merged_orders_customers = merged_items_orders.merge(CustomersTable_df[['customer_id', 'customer_unique_id']], on='customer_id', how='inner')\n",
    "        print(\"OrderItems, Orders, and Customers merged successfully.\")\n",
    "    else:\n",
    "        print(\"Error: 'customer_id' column missing in Customers table.\")\n",
    "else:\n",
    "    print(\"Error: 'order_id' column missing in either OrderItems or Orders table.\")\n"
   ]
  },
  {
   "cell_type": "markdown",
   "metadata": {},
   "source": [
    "Calculating total revenue\n"
   ]
  },
  {
   "cell_type": "code",
   "execution_count": 8,
   "metadata": {},
   "outputs": [
    {
     "name": "stdout",
     "output_type": "stream",
     "text": [
      "Total Revenue Per Customer:\n",
      "customer_id\n",
      "00012a2ce6f8dcda20d059ce98491703     89.80\n",
      "000161a058600d5901f007fab4c27140     54.90\n",
      "0001fd6190edaaf884bcaf3d49edf079    179.99\n",
      "0002414f95344307404f0ace7a26f1d5    149.90\n",
      "000379cdec625522490c315e70c7a9fb     93.00\n",
      "                                     ...  \n",
      "fffcb937e9dd47a13f05ecb8290f4d3e     78.00\n",
      "fffecc9f79fd8c764f843e9951b11341     54.90\n",
      "fffeda5b6d849fbd39689bb92087f431     47.90\n",
      "ffff42319e9b2d713724ae527742af25    199.90\n",
      "ffffa3172527f765de70084a7e53aae8     43.60\n",
      "Name: total_revenue, Length: 98666, dtype: float64\n"
     ]
    }
   ],
   "source": [
    "if 'price' in OrderItemsTable_df.columns:\n",
    "    # Calculate total revenue for each order item\n",
    "    OrderItemsTable_df['total_revenue'] = OrderItemsTable_df['price']  # Assuming price is the revenue per item\n",
    "    \n",
    "    # Ensure that the merged DataFrame exists before trying to group by\n",
    "    if merged_orders_customers is not None:\n",
    "        # Merge to get total revenue per customer\n",
    "        merged_orders_customers = merged_orders_customers.merge(OrderItemsTable_df[['order_id', 'total_revenue']], on='order_id', how='left')\n",
    "        total_revenue_per_customer = merged_orders_customers.groupby('customer_id')['total_revenue'].sum()\n",
    "        \n",
    "        print(\"Total Revenue Per Customer:\")\n",
    "        print(total_revenue_per_customer)\n",
    "    else:\n",
    "        print(\"Error: merged_orders_customers is None.\")\n",
    "else:\n",
    "    print(\"Error: 'price' column missing in OrderItems table.\")\n"
   ]
  },
  {
   "cell_type": "code",
   "execution_count": 9,
   "metadata": {},
   "outputs": [
    {
     "name": "stdout",
     "output_type": "stream",
     "text": [
      "Customers Table Statistics:\n",
      "       customer_zip_code_prefix\n",
      "count              99441.000000\n",
      "mean               35137.474583\n",
      "std                29797.938996\n",
      "min                 1003.000000\n",
      "25%                11347.000000\n",
      "50%                24416.000000\n",
      "75%                58900.000000\n",
      "max                99990.000000\n",
      "Merged Orders and Customers Table Statistics:\n",
      "       order_item_id          price  freight_value  total_revenue\n",
      "count  157222.000000  157222.000000  157222.000000  157222.000000\n",
      "mean        1.647301     109.595975      19.549802     109.595975\n",
      "std         1.620156     167.971810      15.913533     167.971810\n",
      "min         1.000000       0.850000       0.000000       0.850000\n",
      "25%         1.000000      36.490000      12.730000      36.490000\n",
      "50%         1.000000      69.000000      16.110000      69.000000\n",
      "75%         2.000000     122.990000      20.980000     122.990000\n",
      "max        21.000000    6735.000000     409.680000    6735.000000\n",
      "Orders per Customer:\n",
      "customer_id\n",
      "00012a2ce6f8dcda20d059ce98491703    1\n",
      "000161a058600d5901f007fab4c27140    1\n",
      "0001fd6190edaaf884bcaf3d49edf079    1\n",
      "0002414f95344307404f0ace7a26f1d5    1\n",
      "000379cdec625522490c315e70c7a9fb    1\n",
      "                                   ..\n",
      "fffcb937e9dd47a13f05ecb8290f4d3e    1\n",
      "fffecc9f79fd8c764f843e9951b11341    1\n",
      "fffeda5b6d849fbd39689bb92087f431    1\n",
      "ffff42319e9b2d713724ae527742af25    1\n",
      "ffffa3172527f765de70084a7e53aae8    4\n",
      "Length: 98666, dtype: int64\n"
     ]
    }
   ],
   "source": [
    "# Descriptive statistics for Customers data\n",
    "print(\"Customers Table Statistics:\")\n",
    "print(CustomersTable_df.describe())\n",
    "\n",
    "# Descriptive statistics for merged Orders and Customers\n",
    "print(\"Merged Orders and Customers Table Statistics:\")\n",
    "print(merged_orders_customers.describe())\n",
    "\n",
    "# Get a count of the number of orders per customer\n",
    "orders_per_customer = merged_orders_customers.groupby('customer_id').size()\n",
    "print(\"Orders per Customer:\")\n",
    "print(orders_per_customer)"
   ]
  },
  {
   "cell_type": "code",
   "execution_count": 10,
   "metadata": {},
   "outputs": [],
   "source": [
    "# Saving cleaned data to CSV for further analysis\n",
    "CustomersTable_df.to_csv('cleaned_customers.csv', index=False)\n",
    "merged_orders_customers.to_csv('merged_orders_customers.csv', index=False)\n",
    "total_revenue_per_customer.to_csv('total_revenue_per_customer.csv', header=True)\n"
   ]
  }
 ],
 "metadata": {
  "kernelspec": {
   "display_name": "base",
   "language": "python",
   "name": "python3"
  },
  "language_info": {
   "codemirror_mode": {
    "name": "ipython",
    "version": 3
   },
   "file_extension": ".py",
   "mimetype": "text/x-python",
   "name": "python",
   "nbconvert_exporter": "python",
   "pygments_lexer": "ipython3",
   "version": "3.10.14"
  }
 },
 "nbformat": 4,
 "nbformat_minor": 2
}
